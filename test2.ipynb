{
 "cells": [
  {
   "cell_type": "code",
   "execution_count": 2,
   "id": "95e2d4a7-d286-41a5-a6ab-478f05a63a46",
   "metadata": {},
   "outputs": [
    {
     "name": "stdout",
     "output_type": "stream",
     "text": [
      "==> Using settings Namespace(dataset='h36m', keypoints='sh_pt_mpii', actions='*', evaluate='checkpoint/GTNet_V3_cheb_2l-gt/_head-4-layers-5-dim-96/_lr_step50000-lr_gamma0.9-drop_0.25/ckpt_epoch_0010.pth.tar', resume='', checkpoint='checkpoint', snapshot=5, n_head=4, dim_model=96, n_layer=5, dropout=0.25, batch_size=64, epochs=10, num_workers=1, lr=0.001, lr_decay=50000, lr_gamma=0.9, downsample=1, max_norm=1)\n",
      "==> Loading dataset...\n",
      "==> Preparing data...\n",
      "==> Loading 2D detections...\n",
      "==> Creating model...\n",
      "==> Total parameters: 0.65M\n",
      "==> Loading checkpoint 'checkpoint/GTNet_V3_cheb_2l-gt/_head-4-layers-5-dim-96/_lr_step50000-lr_gamma0.9-drop_0.25/ckpt_epoch_0010.pth.tar'\n",
      "==> Loaded checkpoint (Epoch: 10 | Error: 39.00586017992862)\n",
      "==> Evaluating...\n",
      "Generating 26428 poses...\n",
      "\u001b[KEval  |################################| (413/413) Data: 0.000515s | Batch: 0.013s | Total: 0:00:05 | ETA: 0:00:01 | MPJPE:  168.0244 | P-MPJPE:  124.0909\n",
      "Generating 64244 poses...\n",
      "\u001b[KEval  |################################| (1004/1004) Data: 0.000345s | Batch: 0.011s | Total: 0:00:11 | ETA: 0:00:01 | MPJPE:  166.2579 | P-MPJPE:  123.5705\n",
      "Generating 39308 poses...\n",
      "\u001b[KEval  |################################| (615/615) Data: 0.000396s | Batch: 0.012s | Total: 0:00:07 | ETA: 0:00:01 | MPJPE:  167.2115 | P-MPJPE:  133.1261\n",
      "Generating 30644 poses...\n",
      "\u001b[KEval  |################################| (479/479) Data: 0.000398s | Batch: 0.012s | Total: 0:00:05 | ETA: 0:00:01 | MPJPE:  170.2989 | P-MPJPE:  128.4646\n",
      "Generating 56088 poses...\n",
      "\u001b[KEval  |################################| (877/877) Data: 0.000358s | Batch: 0.012s | Total: 0:00:10 | ETA: 0:00:01 | MPJPE:  186.2430 | P-MPJPE:  142.2618\n",
      "Generating 29320 poses...\n",
      "\u001b[KEval  |################################| (459/459) Data: 0.000414s | Batch: 0.012s | Total: 0:00:05 | ETA: 0:00:01 | MPJPE:  170.6349 | P-MPJPE:  128.1651\n",
      "Generating 27280 poses...\n",
      "\u001b[KEval  |################################| (427/427) Data: 0.000434s | Batch: 0.013s | Total: 0:00:05 | ETA: 0:00:01 | MPJPE:  169.3755 | P-MPJPE:  124.2083\n",
      "Generating 19284 poses...\n",
      "\u001b[KEval  |################################| (302/302) Data: 0.000493s | Batch: 0.014s | Total: 0:00:04 | ETA: 0:00:01 | MPJPE:  165.0527 | P-MPJPE:  117.2822\n",
      "Generating 40276 poses...\n",
      "\u001b[KEval  |################################| (630/630) Data: 0.000422s | Batch: 0.013s | Total: 0:00:07 | ETA: 0:00:01 | MPJPE:  185.3675 | P-MPJPE:  145.0749\n",
      "Generating 33324 poses...\n",
      "\u001b[KEval  |################################| (521/521) Data: 0.000439s | Batch: 0.014s | Total: 0:00:07 | ETA: 0:00:01 | MPJPE:  208.2799 | P-MPJPE:  151.1126\n",
      "Generating 55552 poses...\n",
      "\u001b[KEval  |################################| (868/868) Data: 0.000388s | Batch: 0.013s | Total: 0:00:11 | ETA: 0:00:01 | MPJPE:  177.0491 | P-MPJPE:  136.6139\n",
      "Generating 37864 poses...\n",
      "\u001b[KEval  |################################| (592/592) Data: 0.000423s | Batch: 0.013s | Total: 0:00:07 | ETA: 0:00:01 | MPJPE:  172.0865 | P-MPJPE:  128.2623\n",
      "Generating 28304 poses...\n",
      "\u001b[KEval  |################################| (443/443) Data: 0.000430s | Batch: 0.013s | Total: 0:00:05 | ETA: 0:00:01 | MPJPE:  168.3964 | P-MPJPE:  126.5837\n",
      "Generating 29264 poses...\n",
      "\u001b[KEval  |################################| (458/458) Data: 0.000449s | Batch: 0.014s | Total: 0:00:06 | ETA: 0:00:01 | MPJPE:  176.6871 | P-MPJPE:  137.9785\n",
      "Generating 26164 poses...\n",
      "\u001b[KEval  |################################| (409/409) Data: 0.000461s | Batch: 0.013s | Total: 0:00:05 | ETA: 0:00:01 | MPJPE:  183.3720 | P-MPJPE:  144.8369\n",
      "Protocol #1   (MPJPE) action-wise average: 175.62 (mm)\n",
      "Protocol #2 (P-MPJPE) action-wise average: 132.78 (mm)\n",
      "\u001b[?25h"
     ]
    }
   ],
   "source": [
    "!python main_GraFormer.py --evaluate checkpoint/GTNet_V3_cheb_2l-gt/_head-4-layers-5-dim-96/_lr_step50000-lr_gamma0.9-drop_0.25/ckpt_epoch_0010.pth.tar -k sh_pt_mpii "
   ]
  },
  {
   "cell_type": "code",
   "execution_count": null,
   "id": "9aec0fb4-73c5-4987-86af-89b0fcf2c7d9",
   "metadata": {},
   "outputs": [],
   "source": []
  }
 ],
 "metadata": {
  "kernelspec": {
   "display_name": "Python 3 (ipykernel)",
   "language": "python",
   "name": "python3"
  },
  "language_info": {
   "codemirror_mode": {
    "name": "ipython",
    "version": 3
   },
   "file_extension": ".py",
   "mimetype": "text/x-python",
   "name": "python",
   "nbconvert_exporter": "python",
   "pygments_lexer": "ipython3",
   "version": "3.11.7"
  }
 },
 "nbformat": 4,
 "nbformat_minor": 5
}
