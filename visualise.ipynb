{
 "cells": [
  {
   "cell_type": "code",
   "execution_count": 19,
   "id": "4fad56f5-6c17-44f3-ab07-3fc601803598",
   "metadata": {},
   "outputs": [
    {
     "name": "stdout",
     "output_type": "stream",
     "text": [
      "==> Using settings Namespace(dataset='h36m', keypoints='gt', actions='Walking', evaluate='checkpoint/GTNet_V3_cheb_2l-gt/_head-4-layers-5-dim-96/_lr_step50000-lr_gamma0.9-drop_0.25/ckpt_epoch_0010.pth.tar', resume='', checkpoint='checkpoint', snapshot=5, n_head=4, dim_model=96, n_layer=5, dropout=0.25, batch_size=64, epochs=10, num_workers=1, lr=0.001, lr_decay=50000, lr_gamma=0.9, downsample=1, max_norm=1)\n",
      "==> Loading dataset...\n",
      "==> Preparing data...\n",
      "==> Loading 2D detections...\n",
      "==> Selected actions: ['Walking']\n",
      "==> Creating model...\n",
      "==> Total parameters: 0.65M\n",
      "==> Loading checkpoint 'checkpoint/GTNet_V3_cheb_2l-gt/_head-4-layers-5-dim-96/_lr_step50000-lr_gamma0.9-drop_0.25/ckpt_epoch_0010.pth.tar'\n",
      "==> Loaded checkpoint (Epoch: 10 | Error: 39.00586017992862)\n",
      "==> Evaluating...\n",
      "Generating 29264 poses...\n",
      "\u001b[KEval  |################################| (458/458) Data: 0.000288s | Batch: 0.009s | Total: 0:00:04 | ETA: 0:00:01 | MPJPE:  30.1072 | P-MPJPE:  23.7200\n",
      "^C\n",
      "Error saving visualization: Command '['ffmpeg', '-f', 'rawvideo', '-vcodec', 'rawvideo', '-s', '1000x700', '-pix_fmt', 'rgba', '-framerate', '60', '-loglevel', 'error', '-i', 'pipe:', '-vcodec', 'h264', '-pix_fmt', 'yuv420p', '-y', 'checkpoint/visualization.mp4']' returned non-zero exit status 255.\n",
      "Protocol #1   (MPJPE) action-wise average: 30.11 (mm)\n",
      "Protocol #2 (P-MPJPE) action-wise average: 23.72 (mm)\n",
      "\u001b[?25h"
     ]
    }
   ],
   "source": [
    "!python visualise.py --evaluate checkpoint/GTNet_V3_cheb_2l-gt/_head-4-layers-5-dim-96/_lr_step50000-lr_gamma0.9-drop_0.25/ckpt_epoch_0010.pth.tar -k gt --actions Walking"
   ]
  },
  {
   "cell_type": "code",
   "execution_count": 10,
   "id": "c979c78c-8b30-442d-b0bd-640ba314cf1f",
   "metadata": {
    "scrolled": true
   },
   "outputs": [
    {
     "name": "stdout",
     "output_type": "stream",
     "text": [
      "==> Using settings Namespace(dataset='h36m', keypoints='gt', actions='Directions', evaluate='checkpoint/GTNet_V3_cheb_2l-gt/_head-4-layers-5-dim-96/_lr_step50000-lr_gamma0.9-drop_0.25/ckpt_epoch_0010.pth.tar', resume='', checkpoint='checkpoint', snapshot=5, n_head=4, dim_model=96, n_layer=5, dropout=0.25, batch_size=64, epochs=10, num_workers=1, lr=0.001, lr_decay=50000, lr_gamma=0.9, downsample=1, max_norm=1)\n",
      "==> Loading dataset...\n",
      "==> Preparing data...\n",
      "==> Loading 2D detections...\n",
      "==> Selected actions: ['Directions']\n",
      "==> Creating model...\n",
      "==> Total parameters: 0.65M\n",
      "==> Loading checkpoint 'checkpoint/GTNet_V3_cheb_2l-gt/_head-4-layers-5-dim-96/_lr_step50000-lr_gamma0.9-drop_0.25/ckpt_epoch_0010.pth.tar'\n",
      "==> Loaded checkpoint (Epoch: 10 | Error: 39.00586017992862)\n",
      "==> Evaluating...\n",
      "Generating 26428 poses...\n",
      "\u001b[KEval  |################################| (413/413) Data: 0.000372s | Batch: 0.011s | Total: 0:00:04 | ETA: 0:00:01 | MPJPE:  34.6844 | P-MPJPE:  25.2494\n",
      "^C\n",
      "Error saving visualization: Command '['ffmpeg', '-f', 'rawvideo', '-vcodec', 'rawvideo', '-s', '1000x700', '-pix_fmt', 'rgba', '-framerate', '60', '-loglevel', 'error', '-i', 'pipe:', '-vcodec', 'h264', '-pix_fmt', 'yuv420p', '-y', 'checkpoint/visualization.mp4']' returned non-zero exit status 255.\n",
      "Protocol #1   (MPJPE) action-wise average: 34.68 (mm)\n",
      "Protocol #2 (P-MPJPE) action-wise average: 25.25 (mm)\n",
      "\u001b[?25h"
     ]
    }
   ],
   "source": [
    "!python visualise.py --evaluate checkpoint/GTNet_V3_cheb_2l-gt/_head-4-layers-5-dim-96/_lr_step50000-lr_gamma0.9-drop_0.25/ckpt_epoch_0010.pth.tar -k gt --actions Directions"
   ]
  },
  {
   "cell_type": "code",
   "execution_count": 14,
   "id": "3a19902d-d0b6-43a2-a57a-51f390bf8ada",
   "metadata": {},
   "outputs": [
    {
     "name": "stdout",
     "output_type": "stream",
     "text": [
      "==> Using settings Namespace(dataset='h36m', keypoints='gt', actions='Eating', evaluate='checkpoint/GTNet_V3_cheb_2l-gt/_head-4-layers-5-dim-96/_lr_step50000-lr_gamma0.9-drop_0.25/ckpt_epoch_0010.pth.tar', resume='', checkpoint='checkpoint', snapshot=5, n_head=4, dim_model=96, n_layer=5, dropout=0.25, batch_size=64, epochs=10, num_workers=1, lr=0.001, lr_decay=50000, lr_gamma=0.9, downsample=1, max_norm=1)\n",
      "==> Loading dataset...\n",
      "==> Preparing data...\n",
      "==> Loading 2D detections...\n",
      "==> Selected actions: ['Eating']\n",
      "==> Creating model...\n",
      "==> Total parameters: 0.65M\n",
      "==> Loading checkpoint 'checkpoint/GTNet_V3_cheb_2l-gt/_head-4-layers-5-dim-96/_lr_step50000-lr_gamma0.9-drop_0.25/ckpt_epoch_0010.pth.tar'\n",
      "==> Loaded checkpoint (Epoch: 10 | Error: 39.00586017992862)\n",
      "==> Evaluating...\n",
      "Generating 39308 poses...\n",
      "\u001b[KEval  |################################| (615/615) Data: 0.000261s | Batch: 0.009s | Total: 0:00:05 | ETA: 0:00:01 | MPJPE:  33.9565 | P-MPJPE:  26.8046\n",
      "^C\n",
      "Error saving visualization: Command '['ffmpeg', '-f', 'rawvideo', '-vcodec', 'rawvideo', '-s', '1000x700', '-pix_fmt', 'rgba', '-framerate', '60', '-loglevel', 'error', '-i', 'pipe:', '-vcodec', 'h264', '-pix_fmt', 'yuv420p', '-y', 'checkpoint/visualization.mp4']' returned non-zero exit status 255.\n",
      "Protocol #1   (MPJPE) action-wise average: 33.96 (mm)\n",
      "Protocol #2 (P-MPJPE) action-wise average: 26.80 (mm)\n",
      "\u001b[?25h"
     ]
    }
   ],
   "source": [
    "!python visualise.py --evaluate checkpoint/GTNet_V3_cheb_2l-gt/_head-4-layers-5-dim-96/_lr_step50000-lr_gamma0.9-drop_0.25/ckpt_epoch_0010.pth.tar -k gt --actions Eating\n"
   ]
  },
  {
   "cell_type": "code",
   "execution_count": 15,
   "id": "f1e1bf1e-497a-47c4-adc4-7cbaec08ce4a",
   "metadata": {},
   "outputs": [
    {
     "name": "stdout",
     "output_type": "stream",
     "text": [
      "==> Using settings Namespace(dataset='h36m', keypoints='gt', actions='Discussion', evaluate='checkpoint/GTNet_V3_cheb_2l-gt/_head-4-layers-5-dim-96/_lr_step50000-lr_gamma0.9-drop_0.25/ckpt_epoch_0010.pth.tar', resume='', checkpoint='checkpoint', snapshot=5, n_head=4, dim_model=96, n_layer=5, dropout=0.25, batch_size=64, epochs=10, num_workers=1, lr=0.001, lr_decay=50000, lr_gamma=0.9, downsample=1, max_norm=1)\n",
      "==> Loading dataset...\n",
      "==> Preparing data...\n",
      "==> Loading 2D detections...\n",
      "==> Selected actions: ['Discussion']\n",
      "==> Creating model...\n",
      "==> Total parameters: 0.65M\n",
      "==> Loading checkpoint 'checkpoint/GTNet_V3_cheb_2l-gt/_head-4-layers-5-dim-96/_lr_step50000-lr_gamma0.9-drop_0.25/ckpt_epoch_0010.pth.tar'\n",
      "==> Loaded checkpoint (Epoch: 10 | Error: 39.00586017992862)\n",
      "==> Evaluating...\n",
      "Generating 64244 poses...\n",
      "\u001b[KEval  |################################| (1004/1004) Data: 0.000213s | Batch: 0.009s | Total: 0:00:09 | ETA: 0:00:01 | MPJPE:  41.5187 | P-MPJPE:  31.4435\n",
      "^C\n",
      "Error saving visualization: Command '['ffmpeg', '-f', 'rawvideo', '-vcodec', 'rawvideo', '-s', '1000x700', '-pix_fmt', 'rgba', '-framerate', '60', '-loglevel', 'error', '-i', 'pipe:', '-vcodec', 'h264', '-pix_fmt', 'yuv420p', '-y', 'checkpoint/visualization.mp4']' returned non-zero exit status 255.\n",
      "Protocol #1   (MPJPE) action-wise average: 41.52 (mm)\n",
      "Protocol #2 (P-MPJPE) action-wise average: 31.44 (mm)\n",
      "\u001b[?25h"
     ]
    }
   ],
   "source": [
    "!python visualise.py --evaluate checkpoint/GTNet_V3_cheb_2l-gt/_head-4-layers-5-dim-96/_lr_step50000-lr_gamma0.9-drop_0.25/ckpt_epoch_0010.pth.tar -k gt --actions Discussion "
   ]
  },
  {
   "cell_type": "code",
   "execution_count": 16,
   "id": "6b33a2f9-8f23-49bd-aaa6-b95b60cd13f3",
   "metadata": {},
   "outputs": [
    {
     "name": "stdout",
     "output_type": "stream",
     "text": [
      "==> Using settings Namespace(dataset='h36m', keypoints='gt', actions='Posing', evaluate='checkpoint/GTNet_V3_cheb_2l-gt/_head-4-layers-5-dim-96/_lr_step50000-lr_gamma0.9-drop_0.25/ckpt_epoch_0010.pth.tar', resume='', checkpoint='checkpoint', snapshot=5, n_head=4, dim_model=96, n_layer=5, dropout=0.25, batch_size=64, epochs=10, num_workers=1, lr=0.001, lr_decay=50000, lr_gamma=0.9, downsample=1, max_norm=1)\n",
      "==> Loading dataset...\n",
      "==> Preparing data...\n",
      "==> Loading 2D detections...\n",
      "==> Selected actions: ['Posing']\n",
      "==> Creating model...\n",
      "==> Total parameters: 0.65M\n",
      "==> Loading checkpoint 'checkpoint/GTNet_V3_cheb_2l-gt/_head-4-layers-5-dim-96/_lr_step50000-lr_gamma0.9-drop_0.25/ckpt_epoch_0010.pth.tar'\n",
      "==> Loaded checkpoint (Epoch: 10 | Error: 39.00586017992862)\n",
      "==> Evaluating...\n",
      "Generating 27280 poses...\n",
      "\u001b[KEval  |################################| (427/427) Data: 0.000300s | Batch: 0.009s | Total: 0:00:03 | ETA: 0:00:01 | MPJPE:  39.1225 | P-MPJPE:  29.7564\n",
      "^C\n",
      "Error saving visualization: Command '['ffmpeg', '-f', 'rawvideo', '-vcodec', 'rawvideo', '-s', '1000x700', '-pix_fmt', 'rgba', '-framerate', '60', '-loglevel', 'error', '-i', 'pipe:', '-vcodec', 'h264', '-pix_fmt', 'yuv420p', '-y', 'checkpoint/visualization.mp4']' returned non-zero exit status 255.\n",
      "Protocol #1   (MPJPE) action-wise average: 39.12 (mm)\n",
      "Protocol #2 (P-MPJPE) action-wise average: 29.76 (mm)\n",
      "\u001b[?25h"
     ]
    }
   ],
   "source": [
    "!python visualise.py --evaluate checkpoint/GTNet_V3_cheb_2l-gt/_head-4-layers-5-dim-96/_lr_step50000-lr_gamma0.9-drop_0.25/ckpt_epoch_0010.pth.tar -k gt --actions Posing"
   ]
  },
  {
   "cell_type": "code",
   "execution_count": 17,
   "id": "8c405593-dc7c-48be-a2be-04eadbac2f48",
   "metadata": {},
   "outputs": [
    {
     "name": "stdout",
     "output_type": "stream",
     "text": [
      "==> Using settings Namespace(dataset='h36m', keypoints='gt', actions='Photo', evaluate='checkpoint/GTNet_V3_cheb_2l-gt/_head-4-layers-5-dim-96/_lr_step50000-lr_gamma0.9-drop_0.25/ckpt_epoch_0010.pth.tar', resume='', checkpoint='checkpoint', snapshot=5, n_head=4, dim_model=96, n_layer=5, dropout=0.25, batch_size=64, epochs=10, num_workers=1, lr=0.001, lr_decay=50000, lr_gamma=0.9, downsample=1, max_norm=1)\n",
      "==> Loading dataset...\n",
      "==> Preparing data...\n",
      "==> Loading 2D detections...\n",
      "==> Selected actions: ['Photo']\n",
      "==> Creating model...\n",
      "==> Total parameters: 0.65M\n",
      "==> Loading checkpoint 'checkpoint/GTNet_V3_cheb_2l-gt/_head-4-layers-5-dim-96/_lr_step50000-lr_gamma0.9-drop_0.25/ckpt_epoch_0010.pth.tar'\n",
      "==> Loaded checkpoint (Epoch: 10 | Error: 39.00586017992862)\n",
      "==> Evaluating...\n",
      "Generating 29320 poses...\n",
      "\u001b[KEval  |################################| (459/459) Data: 0.000316s | Batch: 0.010s | Total: 0:00:04 | ETA: 0:00:01 | MPJPE:  47.5133 | P-MPJPE:  36.5253\n",
      "^C\n",
      "Error saving visualization: Command '['ffmpeg', '-f', 'rawvideo', '-vcodec', 'rawvideo', '-s', '1000x700', '-pix_fmt', 'rgba', '-framerate', '60', '-loglevel', 'error', '-i', 'pipe:', '-vcodec', 'h264', '-pix_fmt', 'yuv420p', '-y', 'checkpoint/visualization.mp4']' returned non-zero exit status 255.\n",
      "Protocol #1   (MPJPE) action-wise average: 47.51 (mm)\n",
      "Protocol #2 (P-MPJPE) action-wise average: 36.53 (mm)\n",
      "\u001b[?25h"
     ]
    }
   ],
   "source": [
    "!python visualise.py --evaluate checkpoint/GTNet_V3_cheb_2l-gt/_head-4-layers-5-dim-96/_lr_step50000-lr_gamma0.9-drop_0.25/ckpt_epoch_0010.pth.tar -k gt --actions Photo"
   ]
  },
  {
   "cell_type": "code",
   "execution_count": 18,
   "id": "a49bb6ce-ef95-4aa4-9cc5-55cde856eefe",
   "metadata": {},
   "outputs": [
    {
     "name": "stdout",
     "output_type": "stream",
     "text": [
      "==> Using settings Namespace(dataset='h36m', keypoints='gt', actions='Phoning', evaluate='checkpoint/GTNet_V3_cheb_2l-gt/_head-4-layers-5-dim-96/_lr_step50000-lr_gamma0.9-drop_0.25/ckpt_epoch_0010.pth.tar', resume='', checkpoint='checkpoint', snapshot=5, n_head=4, dim_model=96, n_layer=5, dropout=0.25, batch_size=64, epochs=10, num_workers=1, lr=0.001, lr_decay=50000, lr_gamma=0.9, downsample=1, max_norm=1)\n",
      "==> Loading dataset...\n",
      "==> Preparing data...\n",
      "==> Loading 2D detections...\n",
      "==> Selected actions: ['Phoning']\n",
      "==> Creating model...\n",
      "==> Total parameters: 0.65M\n",
      "==> Loading checkpoint 'checkpoint/GTNet_V3_cheb_2l-gt/_head-4-layers-5-dim-96/_lr_step50000-lr_gamma0.9-drop_0.25/ckpt_epoch_0010.pth.tar'\n",
      "==> Loaded checkpoint (Epoch: 10 | Error: 39.00586017992862)\n",
      "==> Evaluating...\n",
      "Generating 56088 poses...\n",
      "\u001b[KEval  |################################| (877/877) Data: 0.000226s | Batch: 0.009s | Total: 0:00:07 | ETA: 0:00:01 | MPJPE:  39.0249 | P-MPJPE:  30.2449\n",
      "^C\n",
      "Error saving visualization: Command '['ffmpeg', '-f', 'rawvideo', '-vcodec', 'rawvideo', '-s', '1000x700', '-pix_fmt', 'rgba', '-framerate', '60', '-loglevel', 'error', '-i', 'pipe:', '-vcodec', 'h264', '-pix_fmt', 'yuv420p', '-y', 'checkpoint/visualization.mp4']' returned non-zero exit status 255.\n",
      "Protocol #1   (MPJPE) action-wise average: 39.02 (mm)\n",
      "Protocol #2 (P-MPJPE) action-wise average: 30.24 (mm)\n",
      "\u001b[?25h"
     ]
    }
   ],
   "source": [
    "!python visualise.py --evaluate checkpoint/GTNet_V3_cheb_2l-gt/_head-4-layers-5-dim-96/_lr_step50000-lr_gamma0.9-drop_0.25/ckpt_epoch_0010.pth.tar -k gt --actions Phoning"
   ]
  },
  {
   "cell_type": "code",
   "execution_count": null,
   "id": "bc7b834b-2b1a-497f-b01c-83f28f5269a5",
   "metadata": {},
   "outputs": [],
   "source": []
  }
 ],
 "metadata": {
  "kernelspec": {
   "display_name": "Python 3 (ipykernel)",
   "language": "python",
   "name": "python3"
  },
  "language_info": {
   "codemirror_mode": {
    "name": "ipython",
    "version": 3
   },
   "file_extension": ".py",
   "mimetype": "text/x-python",
   "name": "python",
   "nbconvert_exporter": "python",
   "pygments_lexer": "ipython3",
   "version": "3.11.7"
  }
 },
 "nbformat": 4,
 "nbformat_minor": 5
}
