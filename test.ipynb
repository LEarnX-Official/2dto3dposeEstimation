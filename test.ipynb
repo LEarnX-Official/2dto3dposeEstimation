{
 "cells": [
  {
   "cell_type": "code",
   "execution_count": 5,
   "id": "a1f9ccab-e53f-4f14-a86c-34144bbefbfc",
   "metadata": {},
   "outputs": [
    {
     "name": "stdout",
     "output_type": "stream",
     "text": [
      "==> Using settings Namespace(dataset='h36m', keypoints='sh_ft_h36m', actions='*', evaluate='checkpoint/GTNet_V3_cheb_2l-gt/_head-4-layers-5-dim-96/_lr_step50000-lr_gamma0.9-drop_0.25/ckpt_epoch_0010.pth.tar', resume='', checkpoint='checkpoint', snapshot=5, n_head=4, dim_model=96, n_layer=5, dropout=0.25, batch_size=64, epochs=10, num_workers=1, lr=0.001, lr_decay=50000, lr_gamma=0.9, downsample=1, max_norm=1)\n",
      "==> Loading dataset...\n",
      "==> Preparing data...\n",
      "==> Loading 2D detections...\n",
      "==> Creating model...\n",
      "==> Total parameters: 0.65M\n",
      "==> Loading checkpoint 'checkpoint/GTNet_V3_cheb_2l-gt/_head-4-layers-5-dim-96/_lr_step50000-lr_gamma0.9-drop_0.25/ckpt_epoch_0010.pth.tar'\n",
      "==> Loaded checkpoint (Epoch: 10 | Error: 39.00586017992862)\n",
      "==> Evaluating...\n",
      "Generating 26428 poses...\n",
      "\u001b[KEval  |################################| (413/413) Data: 0.000750s | Batch: 0.017s | Total: 0:00:06 | ETA: 0:00:01 | MPJPE:  71.7265 | P-MPJPE:  52.8327\n",
      "Generating 64244 poses...\n",
      "\u001b[KEval  |################################| (1004/1004) Data: 0.000409s | Batch: 0.016s | Total: 0:00:16 | ETA: 0:00:01 | MPJPE:  76.8787 | P-MPJPE:  55.6244\n",
      "Generating 39308 poses...\n",
      "\u001b[KEval  |################################| (615/615) Data: 0.000378s | Batch: 0.014s | Total: 0:00:08 | ETA: 0:00:01 | MPJPE:  70.2529 | P-MPJPE:  52.9240\n",
      "Generating 30644 poses...\n",
      "\u001b[KEval  |################################| (479/479) Data: 0.000407s | Batch: 0.014s | Total: 0:00:06 | ETA: 0:00:01 | MPJPE:  75.7571 | P-MPJPE:  56.3683\n",
      "Generating 56088 poses...\n",
      "\u001b[KEval  |################################| (877/877) Data: 0.000300s | Batch: 0.013s | Total: 0:00:11 | ETA: 0:00:01 | MPJPE:  78.3434 | P-MPJPE:  60.6610\n",
      "Generating 29320 poses...\n",
      "\u001b[KEval  |################################| (459/459) Data: 0.000336s | Batch: 0.013s | Total: 0:00:05 | ETA: 0:00:01 | MPJPE:  81.2642 | P-MPJPE:  58.8176\n",
      "Generating 27280 poses...\n",
      "\u001b[KEval  |################################| (427/427) Data: 0.000371s | Batch: 0.014s | Total: 0:00:05 | ETA: 0:00:01 | MPJPE:  74.1038 | P-MPJPE:  52.2789\n",
      "Generating 19284 poses...\n",
      "\u001b[KEval  |################################| (302/302) Data: 0.000344s | Batch: 0.012s | Total: 0:00:03 | ETA: 0:00:01 | MPJPE:  70.9936 | P-MPJPE:  51.7460\n",
      "Generating 40276 poses...\n",
      "\u001b[KEval  |################################| (630/630) Data: 0.000283s | Batch: 0.012s | Total: 0:00:07 | ETA: 0:00:01 | MPJPE:  81.3416 | P-MPJPE:  63.6906\n",
      "Generating 33324 poses...\n",
      "\u001b[KEval  |################################| (521/521) Data: 0.000288s | Batch: 0.013s | Total: 0:00:06 | ETA: 0:00:01 | MPJPE:  99.6505 | P-MPJPE:  75.60457\n",
      "Generating 55552 poses...\n",
      "\u001b[KEval  |################################| (868/868) Data: 0.000354s | Batch: 0.014s | Total: 0:00:12 | ETA: 0:00:01 | MPJPE:  76.1098 | P-MPJPE:  59.6293\n",
      "Generating 37864 poses...\n",
      "\u001b[KEval  |################################| (592/592) Data: 0.000402s | Batch: 0.014s | Total: 0:00:08 | ETA: 0:00:01 | MPJPE:  76.2060 | P-MPJPE:  54.6977\n",
      "Generating 28304 poses...\n",
      "\u001b[KEval  |################################| (443/443) Data: 0.000387s | Batch: 0.014s | Total: 0:00:06 | ETA: 0:00:01 | MPJPE:  76.1647 | P-MPJPE:  57.5488\n",
      "Generating 29264 poses...\n",
      "\u001b[KEval  |################################| (458/458) Data: 0.000400s | Batch: 0.014s | Total: 0:00:06 | ETA: 0:00:01 | MPJPE:  72.7988 | P-MPJPE:  54.7206\n",
      "Generating 26164 poses...\n",
      "\u001b[KEval  |################################| (409/409) Data: 0.000421s | Batch: 0.015s | Total: 0:00:06 | ETA: 0:00:01 | MPJPE:  74.9954 | P-MPJPE:  56.7338\n",
      "Protocol #1   (MPJPE) action-wise average: 77.11 (mm)\n",
      "Protocol #2 (P-MPJPE) action-wise average: 57.59 (mm)\n",
      "\u001b[?25h"
     ]
    }
   ],
   "source": [
    "!python main_GraFormer.py --evaluate checkpoint/GTNet_V3_cheb_2l-gt/_head-4-layers-5-dim-96/_lr_step50000-lr_gamma0.9-drop_0.25/ckpt_epoch_0010.pth.tar -k sh_ft_h36m"
   ]
  },
  {
   "cell_type": "code",
   "execution_count": null,
   "id": "0b674d88-8ac4-4d0a-b340-fa9cbcbcdd22",
   "metadata": {},
   "outputs": [],
   "source": []
  }
 ],
 "metadata": {
  "kernelspec": {
   "display_name": "Python 3 (ipykernel)",
   "language": "python",
   "name": "python3"
  },
  "language_info": {
   "codemirror_mode": {
    "name": "ipython",
    "version": 3
   },
   "file_extension": ".py",
   "mimetype": "text/x-python",
   "name": "python",
   "nbconvert_exporter": "python",
   "pygments_lexer": "ipython3",
   "version": "3.11.7"
  }
 },
 "nbformat": 4,
 "nbformat_minor": 5
}
